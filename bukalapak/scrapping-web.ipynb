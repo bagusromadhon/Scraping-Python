{
 "cells": [
  {
   "cell_type": "markdown",
   "metadata": {},
   "source": [
    "#USING API"
   ]
  },
  {
   "cell_type": "code",
   "execution_count": 5,
   "metadata": {},
   "outputs": [],
   "source": [
    "import requests\n",
    "import pandas as pd"
   ]
  },
  {
   "cell_type": "code",
   "execution_count": 6,
   "metadata": {},
   "outputs": [],
   "source": [
    "shope_url = 'https://shopee.co.id'\n",
    "keyword = 'Iphone 12 Pro'\n",
    "url = 'https://shopee.co.id/api/v4/search/search_items?by=relevancy&keyword={}&limit=60&newest=0&order=desc&page_type=search&scenario=PAGE_GLOBAL_SEARCH&version=2'.format(keyword)\n",
    "header = {\n",
    "'User-Agent' : 'Chrome',\n",
    "'Referer': '{}search?keyword={}'.format(shope_url,keyword)\n",
    "}\n",
    "#API REQUEST\n",
    "r=requests.get(url, headers=header).json()\n",
    "\n",
    "#SCRAPING\n",
    "col_list ,price_list,sold_list = [], [], []\n",
    "for item in r['items']:\n",
    "        col_list.append(item['item_basic']['name'])\n",
    "        price_list.append(item['item_basic']['price'])\n",
    "        sold_list.append(item['item_basic']['sold'])\n",
    "\n",
    "# col_rating,col_count = [] ,[]\n",
    "# for rating in r['tier_variations']:\n",
    "#         col_rating.append(rating['item_rating']['rating_star'])\n",
    "#         col_count.append(rating['item_rating']['rating_count'])\n"
   ]
  },
  {
   "cell_type": "code",
   "execution_count": 13,
   "metadata": {},
   "outputs": [
    {
     "ename": "ValueError",
     "evalue": "Shape of passed values is (60, 1), indices imply (60, 60)",
     "output_type": "error",
     "traceback": [
      "\u001b[1;31m---------------------------------------------------------------------------\u001b[0m",
      "\u001b[1;31mValueError\u001b[0m                                Traceback (most recent call last)",
      "\u001b[1;32mc:\\python\\bukalapak\\scrapping-web.ipynb Cell 4'\u001b[0m in \u001b[0;36m<cell line: 1>\u001b[1;34m()\u001b[0m\n\u001b[1;32m----> <a href='vscode-notebook-cell:/c%3A/python/bukalapak/scrapping-web.ipynb#ch0000003?line=0'>1</a>\u001b[0m nama_barang \u001b[39m=\u001b[39m pd\u001b[39m.\u001b[39;49mDataFrame(\n\u001b[0;32m      <a href='vscode-notebook-cell:/c%3A/python/bukalapak/scrapping-web.ipynb#ch0000003?line=1'>2</a>\u001b[0m     col_list,price_list,sold_list\n\u001b[0;32m      <a href='vscode-notebook-cell:/c%3A/python/bukalapak/scrapping-web.ipynb#ch0000003?line=2'>3</a>\u001b[0m )\n\u001b[0;32m      <a href='vscode-notebook-cell:/c%3A/python/bukalapak/scrapping-web.ipynb#ch0000003?line=3'>4</a>\u001b[0m nama_barang\u001b[39m.\u001b[39mhead(\u001b[39m1\u001b[39m)\n",
      "File \u001b[1;32m~\\AppData\\Local\\Programs\\Python\\Python310\\lib\\site-packages\\pandas\\core\\frame.py:737\u001b[0m, in \u001b[0;36mDataFrame.__init__\u001b[1;34m(self, data, index, columns, dtype, copy)\u001b[0m\n\u001b[0;32m    <a href='file:///c%3A/Users/USER/AppData/Local/Programs/Python/Python310/lib/site-packages/pandas/core/frame.py?line=728'>729</a>\u001b[0m         mgr \u001b[39m=\u001b[39m arrays_to_mgr(\n\u001b[0;32m    <a href='file:///c%3A/Users/USER/AppData/Local/Programs/Python/Python310/lib/site-packages/pandas/core/frame.py?line=729'>730</a>\u001b[0m             arrays,\n\u001b[0;32m    <a href='file:///c%3A/Users/USER/AppData/Local/Programs/Python/Python310/lib/site-packages/pandas/core/frame.py?line=730'>731</a>\u001b[0m             columns,\n\u001b[1;32m   (...)\u001b[0m\n\u001b[0;32m    <a href='file:///c%3A/Users/USER/AppData/Local/Programs/Python/Python310/lib/site-packages/pandas/core/frame.py?line=733'>734</a>\u001b[0m             typ\u001b[39m=\u001b[39mmanager,\n\u001b[0;32m    <a href='file:///c%3A/Users/USER/AppData/Local/Programs/Python/Python310/lib/site-packages/pandas/core/frame.py?line=734'>735</a>\u001b[0m         )\n\u001b[0;32m    <a href='file:///c%3A/Users/USER/AppData/Local/Programs/Python/Python310/lib/site-packages/pandas/core/frame.py?line=735'>736</a>\u001b[0m     \u001b[39melse\u001b[39;00m:\n\u001b[1;32m--> <a href='file:///c%3A/Users/USER/AppData/Local/Programs/Python/Python310/lib/site-packages/pandas/core/frame.py?line=736'>737</a>\u001b[0m         mgr \u001b[39m=\u001b[39m ndarray_to_mgr(\n\u001b[0;32m    <a href='file:///c%3A/Users/USER/AppData/Local/Programs/Python/Python310/lib/site-packages/pandas/core/frame.py?line=737'>738</a>\u001b[0m             data,\n\u001b[0;32m    <a href='file:///c%3A/Users/USER/AppData/Local/Programs/Python/Python310/lib/site-packages/pandas/core/frame.py?line=738'>739</a>\u001b[0m             index,\n\u001b[0;32m    <a href='file:///c%3A/Users/USER/AppData/Local/Programs/Python/Python310/lib/site-packages/pandas/core/frame.py?line=739'>740</a>\u001b[0m             columns,\n\u001b[0;32m    <a href='file:///c%3A/Users/USER/AppData/Local/Programs/Python/Python310/lib/site-packages/pandas/core/frame.py?line=740'>741</a>\u001b[0m             dtype\u001b[39m=\u001b[39;49mdtype,\n\u001b[0;32m    <a href='file:///c%3A/Users/USER/AppData/Local/Programs/Python/Python310/lib/site-packages/pandas/core/frame.py?line=741'>742</a>\u001b[0m             copy\u001b[39m=\u001b[39;49mcopy,\n\u001b[0;32m    <a href='file:///c%3A/Users/USER/AppData/Local/Programs/Python/Python310/lib/site-packages/pandas/core/frame.py?line=742'>743</a>\u001b[0m             typ\u001b[39m=\u001b[39;49mmanager,\n\u001b[0;32m    <a href='file:///c%3A/Users/USER/AppData/Local/Programs/Python/Python310/lib/site-packages/pandas/core/frame.py?line=743'>744</a>\u001b[0m         )\n\u001b[0;32m    <a href='file:///c%3A/Users/USER/AppData/Local/Programs/Python/Python310/lib/site-packages/pandas/core/frame.py?line=744'>745</a>\u001b[0m \u001b[39melse\u001b[39;00m:\n\u001b[0;32m    <a href='file:///c%3A/Users/USER/AppData/Local/Programs/Python/Python310/lib/site-packages/pandas/core/frame.py?line=745'>746</a>\u001b[0m     mgr \u001b[39m=\u001b[39m dict_to_mgr(\n\u001b[0;32m    <a href='file:///c%3A/Users/USER/AppData/Local/Programs/Python/Python310/lib/site-packages/pandas/core/frame.py?line=746'>747</a>\u001b[0m         {},\n\u001b[0;32m    <a href='file:///c%3A/Users/USER/AppData/Local/Programs/Python/Python310/lib/site-packages/pandas/core/frame.py?line=747'>748</a>\u001b[0m         index,\n\u001b[1;32m   (...)\u001b[0m\n\u001b[0;32m    <a href='file:///c%3A/Users/USER/AppData/Local/Programs/Python/Python310/lib/site-packages/pandas/core/frame.py?line=750'>751</a>\u001b[0m         typ\u001b[39m=\u001b[39mmanager,\n\u001b[0;32m    <a href='file:///c%3A/Users/USER/AppData/Local/Programs/Python/Python310/lib/site-packages/pandas/core/frame.py?line=751'>752</a>\u001b[0m     )\n",
      "File \u001b[1;32m~\\AppData\\Local\\Programs\\Python\\Python310\\lib\\site-packages\\pandas\\core\\internals\\construction.py:351\u001b[0m, in \u001b[0;36mndarray_to_mgr\u001b[1;34m(values, index, columns, dtype, copy, typ)\u001b[0m\n\u001b[0;32m    <a href='file:///c%3A/Users/USER/AppData/Local/Programs/Python/Python310/lib/site-packages/pandas/core/internals/construction.py?line=345'>346</a>\u001b[0m \u001b[39m# _prep_ndarray ensures that values.ndim == 2 at this point\u001b[39;00m\n\u001b[0;32m    <a href='file:///c%3A/Users/USER/AppData/Local/Programs/Python/Python310/lib/site-packages/pandas/core/internals/construction.py?line=346'>347</a>\u001b[0m index, columns \u001b[39m=\u001b[39m _get_axes(\n\u001b[0;32m    <a href='file:///c%3A/Users/USER/AppData/Local/Programs/Python/Python310/lib/site-packages/pandas/core/internals/construction.py?line=347'>348</a>\u001b[0m     values\u001b[39m.\u001b[39mshape[\u001b[39m0\u001b[39m], values\u001b[39m.\u001b[39mshape[\u001b[39m1\u001b[39m], index\u001b[39m=\u001b[39mindex, columns\u001b[39m=\u001b[39mcolumns\n\u001b[0;32m    <a href='file:///c%3A/Users/USER/AppData/Local/Programs/Python/Python310/lib/site-packages/pandas/core/internals/construction.py?line=348'>349</a>\u001b[0m )\n\u001b[1;32m--> <a href='file:///c%3A/Users/USER/AppData/Local/Programs/Python/Python310/lib/site-packages/pandas/core/internals/construction.py?line=350'>351</a>\u001b[0m _check_values_indices_shape_match(values, index, columns)\n\u001b[0;32m    <a href='file:///c%3A/Users/USER/AppData/Local/Programs/Python/Python310/lib/site-packages/pandas/core/internals/construction.py?line=352'>353</a>\u001b[0m \u001b[39mif\u001b[39;00m typ \u001b[39m==\u001b[39m \u001b[39m\"\u001b[39m\u001b[39marray\u001b[39m\u001b[39m\"\u001b[39m:\n\u001b[0;32m    <a href='file:///c%3A/Users/USER/AppData/Local/Programs/Python/Python310/lib/site-packages/pandas/core/internals/construction.py?line=354'>355</a>\u001b[0m     \u001b[39mif\u001b[39;00m \u001b[39missubclass\u001b[39m(values\u001b[39m.\u001b[39mdtype\u001b[39m.\u001b[39mtype, \u001b[39mstr\u001b[39m):\n",
      "File \u001b[1;32m~\\AppData\\Local\\Programs\\Python\\Python310\\lib\\site-packages\\pandas\\core\\internals\\construction.py:422\u001b[0m, in \u001b[0;36m_check_values_indices_shape_match\u001b[1;34m(values, index, columns)\u001b[0m\n\u001b[0;32m    <a href='file:///c%3A/Users/USER/AppData/Local/Programs/Python/Python310/lib/site-packages/pandas/core/internals/construction.py?line=419'>420</a>\u001b[0m passed \u001b[39m=\u001b[39m values\u001b[39m.\u001b[39mshape\n\u001b[0;32m    <a href='file:///c%3A/Users/USER/AppData/Local/Programs/Python/Python310/lib/site-packages/pandas/core/internals/construction.py?line=420'>421</a>\u001b[0m implied \u001b[39m=\u001b[39m (\u001b[39mlen\u001b[39m(index), \u001b[39mlen\u001b[39m(columns))\n\u001b[1;32m--> <a href='file:///c%3A/Users/USER/AppData/Local/Programs/Python/Python310/lib/site-packages/pandas/core/internals/construction.py?line=421'>422</a>\u001b[0m \u001b[39mraise\u001b[39;00m \u001b[39mValueError\u001b[39;00m(\u001b[39mf\u001b[39m\u001b[39m\"\u001b[39m\u001b[39mShape of passed values is \u001b[39m\u001b[39m{\u001b[39;00mpassed\u001b[39m}\u001b[39;00m\u001b[39m, indices imply \u001b[39m\u001b[39m{\u001b[39;00mimplied\u001b[39m}\u001b[39;00m\u001b[39m\"\u001b[39m)\n",
      "\u001b[1;31mValueError\u001b[0m: Shape of passed values is (60, 1), indices imply (60, 60)"
     ]
    }
   ],
   "source": [
    "nama_barang = pd.DataFrame(\n",
    "    col_list,price_list,sold_list\n",
    ")\n",
    "nama_barang.head(1)"
   ]
  },
  {
   "cell_type": "code",
   "execution_count": 2,
   "metadata": {},
   "outputs": [
    {
     "ename": "NameError",
     "evalue": "name 'col_list' is not defined",
     "output_type": "error",
     "traceback": [
      "\u001b[1;31m---------------------------------------------------------------------------\u001b[0m",
      "\u001b[1;31mNameError\u001b[0m                                 Traceback (most recent call last)",
      "\u001b[1;32mc:\\python\\bukalapak\\scrapping-web.ipynb Cell 4'\u001b[0m in \u001b[0;36m<cell line: 1>\u001b[1;34m()\u001b[0m\n\u001b[1;32m----> <a href='vscode-notebook-cell:/c%3A/python/bukalapak/scrapping-web.ipynb#ch0000003?line=0'>1</a>\u001b[0m col_list\n",
      "\u001b[1;31mNameError\u001b[0m: name 'col_list' is not defined"
     ]
    }
   ],
   "source": [
    "col_list"
   ]
  }
 ],
 "metadata": {
  "interpreter": {
   "hash": "cfcfbbd76e88e95dc35e2ca9edf0c1e882d0553cc29bc4cac8c0f4eabeb0ecb9"
  },
  "kernelspec": {
   "display_name": "Python 3.10.0 64-bit",
   "language": "python",
   "name": "python3"
  },
  "language_info": {
   "codemirror_mode": {
    "name": "ipython",
    "version": 3
   },
   "file_extension": ".py",
   "mimetype": "text/x-python",
   "name": "python",
   "nbconvert_exporter": "python",
   "pygments_lexer": "ipython3",
   "version": "3.10.0"
  },
  "orig_nbformat": 4
 },
 "nbformat": 4,
 "nbformat_minor": 2
}
