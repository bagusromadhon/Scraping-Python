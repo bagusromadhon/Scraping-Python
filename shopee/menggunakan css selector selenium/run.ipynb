{
 "cells": [
  {
   "cell_type": "code",
   "execution_count": 138,
   "metadata": {},
   "outputs": [],
   "source": [
    "import pandas as pd\n",
    "from bs4 import BeautifulSoup\n",
    "from selenium import webdriver\n",
    "from selenium.webdriver.chrome.options import Options   "
   ]
  },
  {
   "cell_type": "code",
   "execution_count": 152,
   "metadata": {},
   "outputs": [
    {
     "name": "stderr",
     "output_type": "stream",
     "text": [
      "C:\\Users\\USER\\AppData\\Local\\Temp\\ipykernel_22756\\3174764353.py:10: DeprecationWarning: executable_path has been deprecated, please pass in a Service object\n",
      "  driver = webdriver.Chrome(executable_path=path, options=chrome_option)\n"
     ]
    }
   ],
   "source": [
    "#LINK DIGIMAP\n",
    "link_toko = 'https://shopee.co.id/search?keyword=accesoris%20handphone'\n",
    "path='C:\\chromedriver_win32/chromedriver.exe'\n",
    "\n",
    "chrome_option = Options()\n",
    "chrome_option.add_argument('--no-sandbox')\n",
    "chrome_option.add_argument('disable-notifications')\n",
    "chrome_option.add_argument('--disable-infobars')\n",
    "\n",
    "driver = webdriver.Chrome(executable_path=path, options=chrome_option)\n",
    "driver.get(link_toko)"
   ]
  },
  {
   "cell_type": "code",
   "execution_count": 153,
   "metadata": {},
   "outputs": [],
   "source": [
    "html = driver.execute_script(\"return document.getElementsByTagName('html')[0].innerHTML\")\n",
    "soup = BeautifulSoup(html,\"html.parser\")"
   ]
  },
  {
   "cell_type": "markdown",
   "metadata": {},
   "source": [
    "NAMA PRODUK"
   ]
  },
  {
   "cell_type": "code",
   "execution_count": 160,
   "metadata": {},
   "outputs": [],
   "source": [
    "\n",
    "nama_produk = soup.find_all('div',class_='_10Wbs- _2STCsK _3IqNCf')\n",
    "\n"
   ]
  },
  {
   "cell_type": "markdown",
   "metadata": {},
   "source": [
    "HARGA PRODUK "
   ]
  },
  {
   "cell_type": "code",
   "execution_count": 161,
   "metadata": {},
   "outputs": [
    {
     "data": {
      "text/plain": [
       "'Rp8.500'"
      ]
     },
     "execution_count": 161,
     "metadata": {},
     "output_type": "execute_result"
    }
   ],
   "source": [
    "harga_produk = soup.find_all('div',class_='zp9xm9 kNGSLn l-u0xK')\n",
    "harga_produk[0].get_text()"
   ]
  },
  {
   "cell_type": "markdown",
   "metadata": {},
   "source": [
    "PRODUK TERJUAL"
   ]
  },
  {
   "cell_type": "code",
   "execution_count": 121,
   "metadata": {},
   "outputs": [
    {
     "data": {
      "text/plain": [
       "'327 Terjual'"
      ]
     },
     "execution_count": 121,
     "metadata": {},
     "output_type": "execute_result"
    }
   ],
   "source": [
    "produk_terjual = soup.find_all('div',class_='_1uq9fs')\n",
    "produk_terjual[0].get_text()"
   ]
  },
  {
   "cell_type": "code",
   "execution_count": 162,
   "metadata": {},
   "outputs": [
    {
     "data": {
      "text/plain": [
       "15"
      ]
     },
     "execution_count": 162,
     "metadata": {},
     "output_type": "execute_result"
    }
   ],
   "source": [
    "len(nama_produk)"
   ]
  },
  {
   "cell_type": "markdown",
   "metadata": {},
   "source": [
    "LOOPING DATA"
   ]
  },
  {
   "cell_type": "code",
   "execution_count": 163,
   "metadata": {},
   "outputs": [],
   "source": [
    "\n",
    "nama_produk,harga_produk,produk_terjual = [],[],[]\n",
    "\n",
    "for i in soup.find_all('div',class_='_10Wbs- _2STCsK _3IqNCf'):\n",
    "        nama_produk.append(i.text)\n",
    "\n",
    "for i in soup.find_all('div',class_='zp9xm9 kNGSLn l-u0xK'):\n",
    "        harga_produk.append(i.text)\n",
    "\n",
    "for i in soup.find_all('div',class_='_1uq9fs'):\n",
    "        produk_terjual.append(i.text)\n"
   ]
  },
  {
   "cell_type": "code",
   "execution_count": 173,
   "metadata": {},
   "outputs": [],
   "source": [
    "#Pages Lainya\n",
    "\n",
    "nama_produk,harga_produk,produk_terjual = [],[],[]\n",
    "\n",
    "for page in range(0,5):\n",
    "    main_link = 'https://shopee.co.id/search?keyword=accesoris%20handphone&page={}'.format(page)\n",
    "    driver.get(main_link)\n",
    "\n",
    "    for i in soup.find_all('div',class_='_10Wbs- _2STCsK _3IqNCf'):\n",
    "        nama_produk.append(i.text)\n",
    "\n",
    "    for i in soup.find_all('div',class_='zp9xm9 kNGSLn l-u0xK'):\n",
    "        harga_produk.append(i.text)\n",
    "\n",
    "    for i in soup.find_all('div',class_='_1uq9fs'):\n",
    "        produk_terjual.append(i.text)\n"
   ]
  },
  {
   "cell_type": "code",
   "execution_count": 174,
   "metadata": {},
   "outputs": [
    {
     "data": {
      "text/plain": [
       "75"
      ]
     },
     "execution_count": 174,
     "metadata": {},
     "output_type": "execute_result"
    }
   ],
   "source": [
    "len(produk_terjual)"
   ]
  },
  {
   "cell_type": "code",
   "execution_count": 175,
   "metadata": {},
   "outputs": [],
   "source": [
    "listCols = ['nama_produk','harga_produk','produk_terjual']\n",
    "dict_data = dict(zip(\n",
    "        listCols,(\n",
    "            nama_produk,\n",
    "            harga_produk,\n",
    "            produk_terjual)\n",
    "))"
   ]
  },
  {
   "cell_type": "code",
   "execution_count": 177,
   "metadata": {},
   "outputs": [],
   "source": [
    "#CONVERT TO JSON\n",
    "import json\n",
    "with open('digimap.json','w') as fp :\n",
    "    json.dump(dict_data, fp)"
   ]
  },
  {
   "cell_type": "code",
   "execution_count": 178,
   "metadata": {},
   "outputs": [
    {
     "data": {
      "text/html": [
       "<div>\n",
       "<style scoped>\n",
       "    .dataframe tbody tr th:only-of-type {\n",
       "        vertical-align: middle;\n",
       "    }\n",
       "\n",
       "    .dataframe tbody tr th {\n",
       "        vertical-align: top;\n",
       "    }\n",
       "\n",
       "    .dataframe thead th {\n",
       "        text-align: right;\n",
       "    }\n",
       "</style>\n",
       "<table border=\"1\" class=\"dataframe\">\n",
       "  <thead>\n",
       "    <tr style=\"text-align: right;\">\n",
       "      <th></th>\n",
       "      <th>nama_produk</th>\n",
       "      <th>harga_produk</th>\n",
       "      <th>produk_terjual</th>\n",
       "    </tr>\n",
       "  </thead>\n",
       "  <tbody>\n",
       "    <tr>\n",
       "      <th>0</th>\n",
       "      <td>POP SOCKET RING HP KARAKTER POP SOCKET AIR WAT...</td>\n",
       "      <td>Rp8.500</td>\n",
       "      <td>365 Terjual</td>\n",
       "    </tr>\n",
       "    <tr>\n",
       "      <th>1</th>\n",
       "      <td>Powerbank 20000mAh 3 Cables Fast Charging Full...</td>\n",
       "      <td>Rp90.250 - Rp94.050</td>\n",
       "      <td>327 Terjual</td>\n",
       "    </tr>\n",
       "    <tr>\n",
       "      <th>2</th>\n",
       "      <td>PowerBank 60000mAh 4 USB Fast Charging Externa...</td>\n",
       "      <td>Rp121.600 - Rp200.450</td>\n",
       "      <td>452 Terjual</td>\n",
       "    </tr>\n",
       "    <tr>\n",
       "      <th>3</th>\n",
       "      <td>PHONE HOLDER SEPEDA MOTOR UNIVERSAL. HOLDER HP...</td>\n",
       "      <td>Rp16.500</td>\n",
       "      <td>1,9RB Terjual</td>\n",
       "    </tr>\n",
       "    <tr>\n",
       "      <th>4</th>\n",
       "      <td>Bisa Konek HP Pakai Proyektor Mini Original | ...</td>\n",
       "      <td>Rp225.000 - Rp875.000</td>\n",
       "      <td>2,4RB Terjual</td>\n",
       "    </tr>\n",
       "    <tr>\n",
       "      <th>...</th>\n",
       "      <td>...</td>\n",
       "      <td>...</td>\n",
       "      <td>...</td>\n",
       "    </tr>\n",
       "    <tr>\n",
       "      <th>70</th>\n",
       "      <td>Phone Holder Lipat Folding Desktop Mobile Phon...</td>\n",
       "      <td>Rp45.000</td>\n",
       "      <td></td>\n",
       "    </tr>\n",
       "    <tr>\n",
       "      <th>71</th>\n",
       "      <td>cantolan ram gantungan besi accesoris</td>\n",
       "      <td>Rp8.000</td>\n",
       "      <td></td>\n",
       "    </tr>\n",
       "    <tr>\n",
       "      <th>72</th>\n",
       "      <td>accesoris hp</td>\n",
       "      <td>Rp1.884.150</td>\n",
       "      <td></td>\n",
       "    </tr>\n",
       "    <tr>\n",
       "      <th>73</th>\n",
       "      <td>Tali Handphone - Gantungan Handphone - Accesoris</td>\n",
       "      <td>Rp4.750</td>\n",
       "      <td></td>\n",
       "    </tr>\n",
       "    <tr>\n",
       "      <th>74</th>\n",
       "      <td>accesoris handphone</td>\n",
       "      <td>Rp12.000</td>\n",
       "      <td></td>\n",
       "    </tr>\n",
       "  </tbody>\n",
       "</table>\n",
       "<p>75 rows × 3 columns</p>\n",
       "</div>"
      ],
      "text/plain": [
       "                                          nama_produk           harga_produk  \\\n",
       "0   POP SOCKET RING HP KARAKTER POP SOCKET AIR WAT...                Rp8.500   \n",
       "1   Powerbank 20000mAh 3 Cables Fast Charging Full...    Rp90.250 - Rp94.050   \n",
       "2   PowerBank 60000mAh 4 USB Fast Charging Externa...  Rp121.600 - Rp200.450   \n",
       "3   PHONE HOLDER SEPEDA MOTOR UNIVERSAL. HOLDER HP...               Rp16.500   \n",
       "4   Bisa Konek HP Pakai Proyektor Mini Original | ...  Rp225.000 - Rp875.000   \n",
       "..                                                ...                    ...   \n",
       "70  Phone Holder Lipat Folding Desktop Mobile Phon...               Rp45.000   \n",
       "71              cantolan ram gantungan besi accesoris                Rp8.000   \n",
       "72                                       accesoris hp            Rp1.884.150   \n",
       "73   Tali Handphone - Gantungan Handphone - Accesoris                Rp4.750   \n",
       "74                                accesoris handphone               Rp12.000   \n",
       "\n",
       "   produk_terjual  \n",
       "0     365 Terjual  \n",
       "1     327 Terjual  \n",
       "2     452 Terjual  \n",
       "3   1,9RB Terjual  \n",
       "4   2,4RB Terjual  \n",
       "..            ...  \n",
       "70                 \n",
       "71                 \n",
       "72                 \n",
       "73                 \n",
       "74                 \n",
       "\n",
       "[75 rows x 3 columns]"
      ]
     },
     "execution_count": 178,
     "metadata": {},
     "output_type": "execute_result"
    }
   ],
   "source": [
    "df = pd.DataFrame(\n",
    "    data = dict_data\n",
    ")\n",
    "df.head(100)\n"
   ]
  },
  {
   "cell_type": "code",
   "execution_count": 180,
   "metadata": {},
   "outputs": [],
   "source": [
    "df.to_csv('shoope_barang1.csv',index=False)"
   ]
  }
 ],
 "metadata": {
  "interpreter": {
   "hash": "cfcfbbd76e88e95dc35e2ca9edf0c1e882d0553cc29bc4cac8c0f4eabeb0ecb9"
  },
  "kernelspec": {
   "display_name": "Python 3.10.0 64-bit",
   "language": "python",
   "name": "python3"
  },
  "language_info": {
   "codemirror_mode": {
    "name": "ipython",
    "version": 3
   },
   "file_extension": ".py",
   "mimetype": "text/x-python",
   "name": "python",
   "nbconvert_exporter": "python",
   "pygments_lexer": "ipython3",
   "version": "3.10.0"
  },
  "orig_nbformat": 4
 },
 "nbformat": 4,
 "nbformat_minor": 2
}
