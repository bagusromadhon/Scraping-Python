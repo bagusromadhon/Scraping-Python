{
 "cells": [
  {
   "cell_type": "code",
   "execution_count": 7,
   "metadata": {},
   "outputs": [],
   "source": [
    "import pandas as pd\n",
    "from bs4 import BeautifulSoup\n",
    "from selenium import webdriver\n",
    "from selenium.webdriver.chrome.options import Options   "
   ]
  },
  {
   "cell_type": "code",
   "execution_count": 8,
   "metadata": {},
   "outputs": [
    {
     "name": "stderr",
     "output_type": "stream",
     "text": [
      "C:\\Users\\USER\\AppData\\Local\\Temp\\ipykernel_22756\\3952187118.py:10: DeprecationWarning: executable_path has been deprecated, please pass in a Service object\n",
      "  driver = webdriver.Chrome(executable_path=path, options=chrome_option)\n"
     ]
    }
   ],
   "source": [
    "#LINK DIGIMAP\n",
    "link_toko = 'https://shopee.co.id/idhettstore?categoryId=100636&itemId=5801528953'\n",
    "path='C:\\chromedriver_win32/chromedriver.exe'\n",
    "\n",
    "chrome_option = Options()\n",
    "chrome_option.add_argument('--no-sandbox')\n",
    "chrome_option.add_argument('disable-notifications')\n",
    "chrome_option.add_argument('--disable-infobars')\n",
    "\n",
    "driver = webdriver.Chrome(executable_path=path, options=chrome_option)\n",
    "driver.get(link_toko)"
   ]
  },
  {
   "cell_type": "code",
   "execution_count": 9,
   "metadata": {},
   "outputs": [],
   "source": [
    "html = driver.execute_script(\"return document.getElementsByTagName('html')[0].innerHTML\")\n",
    "soup = BeautifulSoup(html,\"html.parser\")"
   ]
  },
  {
   "cell_type": "markdown",
   "metadata": {},
   "source": [
    "NAMA PRODUK"
   ]
  },
  {
   "cell_type": "code",
   "execution_count": 10,
   "metadata": {},
   "outputs": [
    {
     "data": {
      "text/plain": [
       "'WOOL BLUDRU 5 INCH 1 PCS DIAMETER 125mm MODEL VELCRO POLES LEMBUT POLISH PAD VELCRO FINISHING AKHIR TINGGAL TEMPEL'"
      ]
     },
     "execution_count": 10,
     "metadata": {},
     "output_type": "execute_result"
    }
   ],
   "source": [
    "\n",
    "nama_produk = soup.find_all('div',class_='_1sRyv_ _2j2K92 _3j20V6')\n",
    "nama_produk[0].get_text()"
   ]
  },
  {
   "cell_type": "markdown",
   "metadata": {},
   "source": [
    "HARGA PRODUK "
   ]
  },
  {
   "cell_type": "code",
   "execution_count": 11,
   "metadata": {},
   "outputs": [
    {
     "data": {
      "text/plain": [
       "'Rp14.840'"
      ]
     },
     "execution_count": 11,
     "metadata": {},
     "output_type": "execute_result"
    }
   ],
   "source": [
    "harga_produk = soup.find_all('div',class_='_3JdP1I _1qxg6T _1NAEoM')\n",
    "harga_produk[0].get_text()"
   ]
  },
  {
   "cell_type": "markdown",
   "metadata": {},
   "source": [
    "PRODUK TERJUAL"
   ]
  },
  {
   "cell_type": "code",
   "execution_count": 12,
   "metadata": {},
   "outputs": [
    {
     "data": {
      "text/plain": [
       "'571 Terjual'"
      ]
     },
     "execution_count": 12,
     "metadata": {},
     "output_type": "execute_result"
    }
   ],
   "source": [
    "produk_terjual = soup.find_all('div',class_='_2Tc7Qg')\n",
    "produk_terjual[0].get_text()"
   ]
  },
  {
   "cell_type": "markdown",
   "metadata": {},
   "source": [
    "LOOPING DATA"
   ]
  },
  {
   "cell_type": "code",
   "execution_count": 13,
   "metadata": {},
   "outputs": [],
   "source": [
    "\n",
    "nama_produk,harga_produk,produk_terjual = [],[],[]\n",
    "\n",
    "for i in soup.find_all('div',class_='_1sRyv_ _2j2K92 _3j20V6'):\n",
    "    nama_produk.append(i.text)\n",
    "\n",
    "for i in soup.find_all('div',class_='_3JdP1I _1qxg6T _1NAEoM'):\n",
    "    harga_produk.append(i.text)\n",
    "\n",
    "for i in soup.find_all('div',class_='_2Tc7Qg'):\n",
    "    produk_terjual.append(i.text)\n"
   ]
  },
  {
   "cell_type": "code",
   "execution_count": 15,
   "metadata": {},
   "outputs": [
    {
     "data": {
      "text/plain": [
       "['WOOL BLUDRU 5 INCH 1 PCS DIAMETER 125mm MODEL VELCRO POLES LEMBUT POLISH PAD VELCRO FINISHING AKHIR TINGGAL TEMPEL',\n",
       " 'Set 5 Pcs Screw Extractor Set Tap Balik Pencabut Baut Rusak Patah',\n",
       " 'WOOL BLUDRU MODEL CENDOL 5 INCH 1PCS DIAMETER 125mm POLES LEMBUT POLISH PAD VELCRO FINISHING AKHIR',\n",
       " 'SET 6/10/20 PCS MATA BOR KIKIR UKIR KAYU HSS MINI DRILL GRINDER TUNER CUNER DREMEL MILLING CUTTER',\n",
       " 'Set Mata Bor Kaca Keramik Granit Marmer Batu Porselen Diamond HSS Holesaw Pelubang 6mm - 50mm',\n",
       " 'Kepala Gergaji Gerinda Parut Grinder Blade Wood Carving Tool / Mata Gerinda Parut Kayu',\n",
       " 'AIR FILTER REGULATOR ATAU SARINGAN KOMPRESOR DOUBLE AFC-2000/AFR-2000/AR-2000 1/4 BSP + COUPLER PNEUMATIC SARINGAN PEMISAH AIR MINYAK KOMPRESOR',\n",
       " 'FILTER UDARA AF-02 & REGULATOR SPRAYGUN FILTER AIR IN LINE & MANOMETER TEKANAN UNTUK KOMPRESOR UDARA',\n",
       " 'SPRAY GUN MINI AUARITA F-3 HVLP NEW NOZZLE 0.5mm/0.8mm/1.0mm CUP 125ml AIRBRUSH & PAINTING ORIGINAL PRODUCTS',\n",
       " 'AR2000 AIR REGULATOR SETELAN PENGATUR ANGIN SPRAYGUN SPRAY GUN KOMPRESOR',\n",
       " 'SPRAY GUN AUARITA H-899 HVLP GRAVITY FEED AIR NOZZLE 1.3mm PAINTING & AIRBRUSH 600ml Cup ORIGINAL PRODUCT',\n",
       " 'Manometer Spray Gun Regulator Air Biru Gold Dengan Pengukur Tekanan Udara',\n",
       " 'WOOL BLUDRU 5 INCH 1 PCS DIAMETER 125mm MODEL VELCRO POLES LEMBUT POLISH PAD VELCRO FINISHING AKHIR TINGGAL TEMPEL',\n",
       " 'WOOL BLUDRU MODEL CENDOL 5 INCH 1PCS DIAMETER 125mm POLES LEMBUT POLISH PAD VELCRO FINISHING AKHIR',\n",
       " 'Busa Poles Motor Mobil Busa Poles Foam Applicator Sponge Wax Pads',\n",
       " 'Busa Poles Sponge Velcro 5 Inch Diameter 125mm 1 Pcs Flat/Rata & Wave/Gelombang Tinggal Tempel',\n",
       " 'Kain Lap Bahan Microfiber Lembut Untuk Membersihkan Motor & Mobil',\n",
       " 'Applicator Pad Microfiber Busa 5 Inch Waxing, Buffing, Polishing, Detailing',\n",
       " 'Set 5 Pcs Screw Extractor Set Tap Balik Pencabut Baut Rusak Patah',\n",
       " 'Set Mata Bor Kaca Keramik Granit Marmer Batu Porselen Diamond HSS Holesaw Pelubang 6mm - 50mm',\n",
       " 'Set 20 Pcs Alat Snai & Hand Tap Ulir Baut Senai Die M3-M12 Baut 5mm S/d 17mm Pembuat Ulir Drat Luar & Dalam Alat Perbaikan Drat Baut',\n",
       " 'SET 6/10/20 PCS MATA BOR KIKIR UKIR KAYU HSS MINI DRILL GRINDER TUNER CUNER DREMEL MILLING CUTTER',\n",
       " 'Full Set Pisau Pemotong Kaca Keramik Ubin Granit Glass Diamond Cutter Tile Handheld Alat Pertukangan',\n",
       " 'Spiring Clamp Penjepit Kayu Nylon 2\"3\"4\"6\"9 Inch Klip Penjepit Multiplek Quick Klem Wood Working',\n",
       " 'Busa Poles Velcro Body 3 Inch 7 Pcs 80mm M10 M14 Mobil & Motor Wash & Wax Coumpond Polish Coating',\n",
       " 'Set Mata Bor Kaca Keramik Granit Marmer Batu Porselen Diamond HSS Holesaw Pelubang 6mm - 50mm',\n",
       " 'SET 6/10/20 PCS MATA BOR KIKIR UKIR KAYU HSS MINI DRILL GRINDER TUNER CUNER DREMEL MILLING CUTTER',\n",
       " 'WOOL BLUDRU 5 INCH 1 PCS DIAMETER 125mm MODEL VELCRO POLES LEMBUT POLISH PAD VELCRO FINISHING AKHIR TINGGAL TEMPEL',\n",
       " 'Set 5 Pcs Screw Extractor Set Tap Balik Pencabut Baut Rusak Patah',\n",
       " 'Busa Poles Velcro Body 4 Inch 6 Pcs 100mm M10 M14 Mobil & Motor Wash & Wax Coumpond Polish Coating',\n",
       " 'BUSA POLES POLISH WAXING COUMPOND WOOLEN KIT PAD 3 INCH 7 PCS 80mm M10 M14 UNTUK GERINDERA & BOR',\n",
       " 'AIR FILTER REGULATOR ATAU SARINGAN KOMPRESOR DOUBLE AFC-2000/AFR-2000/AR-2000 1/4 BSP + COUPLER PNEUMATIC SARINGAN PEMISAH AIR MINYAK KOMPRESOR',\n",
       " 'ALAT POLES BODY SET MOBIL MOTOR 7 PCS 3 INCH 80mm DRILL M10 M14 POLISH WAX SPONS COMPOUND DETAILING',\n",
       " 'FILTER UDARA AF-02 & REGULATOR SPRAYGUN FILTER AIR IN LINE & MANOMETER TEKANAN UNTUK KOMPRESOR UDARA',\n",
       " 'MATA BOR CUNER METAL PORTING BAJA KIKIR UKIR TUNER MINI GRINDER ROTARY TUNGSTEN CARBIDE SET 10 PCS',\n",
       " 'Busa Poles Motor Mobil Busa Poles Foam Applicator Sponge Wax Pads',\n",
       " 'Penjepit F Clamp 4 & 6 Inch Quick Clamp Release Alat Jepit F Clamps Grip Quick Ratchet Woodworking',\n",
       " 'SET 5 INCH 125mm 5 PCS BUSA SPON PAD POLES BODY MOBIL & MOTOR POLISHING COUMPOND BUFFING WAX COATING',\n",
       " 'Filter Spray Gun Gravity Tabung Atas HVLP Spray Gun',\n",
       " 'BUSA POLES 5 INCH 5 PCS M10 M14 125mm SPONGE POLISHING WAXING BUFFING PAD KIT COMPOUND DRILL WOOLEN',\n",
       " 'Busa Poles Sponge Velcro 5 Inch Diameter 125mm 1 Pcs Flat/Rata & Wave/Gelombang Tinggal Tempel',\n",
       " 'MATA TUNER CUNER PORTING POLISH UKIR KIKIR TUNGSTEN CARBIDE MINI GRINDER AS 3mm HEAD 6mm SET 10 PCS',\n",
       " 'PEN CUTTER + 5PCS REFFIL PISAU UKIR SENI SILVER STAINLESS STEEL ENGRAVING CARVING HOBBY CRAFT KNIFE',\n",
       " 'SPRAY GUN MINI AUARITA F-3 HVLP NEW NOZZLE 0.5mm/0.8mm/1.0mm CUP 125ml AIRBRUSH & PAINTING ORIGINAL PRODUCTS',\n",
       " 'MATA BOR HSS TWIST DRILL ROJOK SPUYER KARBURATOR MATA BOR PCB',\n",
       " 'Spiring Clamp Penjepit Kayu Nylon 2\"3\"4\"6\"9 Inch Klip Penjepit Multiplek Quick Klem Wood Working',\n",
       " 'Full Set Pisau Pemotong Kaca Keramik Ubin Granit Glass Diamond Cutter Tile Handheld Alat Pertukangan',\n",
       " 'MATA BOR KAYU WOOD BITS STEEL HSS GERINDA KIKIR UKIR KAYU 1/4 As 6mm 5 PCS',\n",
       " 'WOOL BLUDRU MODEL CENDOL 5 INCH 1PCS DIAMETER 125mm POLES LEMBUT POLISH PAD VELCRO FINISHING AKHIR',\n",
       " 'Set 12 Pcs Mata Bor Obeng Hex Shank Magnetic Phillips Cross Obeng Bits PH00 PH0 PH1 PH2 50mm 1/4inch',\n",
       " 'Abrasive Wheel Scouring Pad Brush Nylon Grinding Sanding Polishing Head Tool Mini Grinder',\n",
       " 'Set 5 Pcs Mata Gergaji Mini Grinder 16mm - 32mm HSS Circular Saw Disc Dremel Rotary',\n",
       " 'Kain Lap Bahan Microfiber Lembut Untuk Membersihkan Motor & Mobil',\n",
       " 'Mata Pisau Cutting Roland Jinka 30 45 60 derajat -']"
      ]
     },
     "execution_count": 15,
     "metadata": {},
     "output_type": "execute_result"
    }
   ],
   "source": [
    "nama_produk"
   ]
  }
 ],
 "metadata": {
  "interpreter": {
   "hash": "cfcfbbd76e88e95dc35e2ca9edf0c1e882d0553cc29bc4cac8c0f4eabeb0ecb9"
  },
  "kernelspec": {
   "display_name": "Python 3.10.0 64-bit",
   "language": "python",
   "name": "python3"
  },
  "language_info": {
   "codemirror_mode": {
    "name": "ipython",
    "version": 3
   },
   "file_extension": ".py",
   "mimetype": "text/x-python",
   "name": "python",
   "nbconvert_exporter": "python",
   "pygments_lexer": "ipython3",
   "version": "3.10.0"
  },
  "orig_nbformat": 4
 },
 "nbformat": 4,
 "nbformat_minor": 2
}
